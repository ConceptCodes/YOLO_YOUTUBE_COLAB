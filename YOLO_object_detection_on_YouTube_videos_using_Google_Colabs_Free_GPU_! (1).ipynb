{
  "nbformat": 4,
  "nbformat_minor": 0,
  "metadata": {
    "colab": {
      "name": "YOLO object detection on YouTube videos using Google Colabs Free GPU !",
      "version": "0.3.2",
      "provenance": [],
      "collapsed_sections": []
    },
    "kernelspec": {
      "name": "python3",
      "display_name": "Python 3"
    },
    "accelerator": "GPU"
  },
  "cells": [
    {
      "metadata": {
        "id": "89cyX7xUGq97",
        "colab_type": "text"
      },
      "cell_type": "markdown",
      "source": [
        "\n",
        "# **YOLO object detection on YouTube videos using Google Colabs Free GPU !**\n",
        "\n",
        " - Do **NOT** forget to turn **ON** GPU in notebook.  \n",
        " - Edit--> Notebook Settings --> Hardware Accelerator --> GPU\n",
        "\n",
        "\n",
        " \n"
      ]
    },
    {
      "metadata": {
        "id": "UMDhtuOCsam0",
        "colab_type": "code",
        "colab": {
          "base_uri": "https://localhost:8080/",
          "height": 527
        },
        "outputId": "7c23f906-e642-414f-b0ba-500f656b3d90"
      },
      "cell_type": "code",
      "source": [
        "!pip install pydrive\n",
        "!git clone https://github.com/thtrieu/darkflow.git\n",
        "!pip install Cython \n",
        "!pip install pytube\n",
        "!pip install PyDrive\n",
        "\n",
        "import os\n",
        "os.chdir('/content/darkflow')\n",
        "!pwd\n",
        "\n",
        "!pip install -e ."
      ],
      "execution_count": 14,
      "outputs": [
        {
          "output_type": "stream",
          "text": [
            "Requirement already satisfied: pydrive in /usr/local/lib/python3.6/dist-packages (1.3.1)\n",
            "Requirement already satisfied: google-api-python-client>=1.2 in /usr/local/lib/python3.6/dist-packages (from pydrive) (1.6.7)\n",
            "Requirement already satisfied: oauth2client>=4.0.0 in /usr/local/lib/python3.6/dist-packages (from pydrive) (4.1.3)\n",
            "Requirement already satisfied: PyYAML>=3.0 in /usr/local/lib/python3.6/dist-packages (from pydrive) (3.13)\n",
            "Requirement already satisfied: six<2dev,>=1.6.1 in /usr/local/lib/python3.6/dist-packages (from google-api-python-client>=1.2->pydrive) (1.11.0)\n",
            "Requirement already satisfied: uritemplate<4dev,>=3.0.0 in /usr/local/lib/python3.6/dist-packages (from google-api-python-client>=1.2->pydrive) (3.0.0)\n",
            "Requirement already satisfied: httplib2<1dev,>=0.9.2 in /usr/local/lib/python3.6/dist-packages (from google-api-python-client>=1.2->pydrive) (0.11.3)\n",
            "Requirement already satisfied: rsa>=3.1.4 in /usr/local/lib/python3.6/dist-packages (from oauth2client>=4.0.0->pydrive) (4.0)\n",
            "Requirement already satisfied: pyasn1>=0.1.7 in /usr/local/lib/python3.6/dist-packages (from oauth2client>=4.0.0->pydrive) (0.4.4)\n",
            "Requirement already satisfied: pyasn1-modules>=0.0.5 in /usr/local/lib/python3.6/dist-packages (from oauth2client>=4.0.0->pydrive) (0.2.2)\n",
            "fatal: destination path 'darkflow' already exists and is not an empty directory.\n",
            "Requirement already satisfied: Cython in /usr/local/lib/python3.6/dist-packages (0.29)\n",
            "Requirement already satisfied: pytube in /usr/local/lib/python3.6/dist-packages (9.3.3)\n",
            "Requirement already satisfied: PyDrive in /usr/local/lib/python3.6/dist-packages (1.3.1)\n",
            "Requirement already satisfied: PyYAML>=3.0 in /usr/local/lib/python3.6/dist-packages (from PyDrive) (3.13)\n",
            "Requirement already satisfied: google-api-python-client>=1.2 in /usr/local/lib/python3.6/dist-packages (from PyDrive) (1.6.7)\n",
            "Requirement already satisfied: oauth2client>=4.0.0 in /usr/local/lib/python3.6/dist-packages (from PyDrive) (4.1.3)\n",
            "Requirement already satisfied: httplib2<1dev,>=0.9.2 in /usr/local/lib/python3.6/dist-packages (from google-api-python-client>=1.2->PyDrive) (0.11.3)\n",
            "Requirement already satisfied: uritemplate<4dev,>=3.0.0 in /usr/local/lib/python3.6/dist-packages (from google-api-python-client>=1.2->PyDrive) (3.0.0)\n",
            "Requirement already satisfied: six<2dev,>=1.6.1 in /usr/local/lib/python3.6/dist-packages (from google-api-python-client>=1.2->PyDrive) (1.11.0)\n",
            "Requirement already satisfied: pyasn1-modules>=0.0.5 in /usr/local/lib/python3.6/dist-packages (from oauth2client>=4.0.0->PyDrive) (0.2.2)\n",
            "Requirement already satisfied: rsa>=3.1.4 in /usr/local/lib/python3.6/dist-packages (from oauth2client>=4.0.0->PyDrive) (4.0)\n",
            "Requirement already satisfied: pyasn1>=0.1.7 in /usr/local/lib/python3.6/dist-packages (from oauth2client>=4.0.0->PyDrive) (0.4.4)\n",
            "/content/darkflow\n",
            "Obtaining file:///content/darkflow\n",
            "Installing collected packages: darkflow\n",
            "  Found existing installation: darkflow 1.0.0\n",
            "    Can't uninstall 'darkflow'. No files were found to uninstall.\n",
            "  Running setup.py develop for darkflow\n",
            "Successfully installed darkflow\n"
          ],
          "name": "stdout"
        }
      ]
    },
    {
      "metadata": {
        "id": "lakqZQs306zC",
        "colab_type": "text"
      },
      "cell_type": "markdown",
      "source": [
        "### Download weights from the link below and upload them in your google drive for repeat use as colab saves files temporarily.\n",
        "\n",
        "*   We will be using YOLOv2 608x608 from the following link https://pjreddie.com/darknet/yolo/\n",
        "*   Download the weights and upload them in the your google drive.\n",
        "*   Locate the file id of the weigts you uploaded on google drive. ( you should be able to find it by right clicking the file and then going to get shareable link)\n",
        "\n",
        "\n",
        "\n",
        "\n",
        "\n",
        "\n",
        "\n",
        "\n",
        "\n",
        "\n",
        "\n",
        "\n",
        "\n",
        "\n"
      ]
    },
    {
      "metadata": {
        "id": "IinGnI8XsOHz",
        "colab_type": "code",
        "colab": {}
      },
      "cell_type": "code",
      "source": [
        "import pydrive\n",
        "import time\n",
        "from tqdm import tqdm\n",
        "from pydrive.auth import GoogleAuth\n",
        "from pydrive.drive import GoogleDrive\n",
        "from google.colab import auth\n",
        "from google.colab import files\n",
        "from oauth2client.client import GoogleCredentials\n",
        "\n",
        "auth.authenticate_user()\n",
        "gauth = GoogleAuth()\n",
        "gauth.credentials = GoogleCredentials.get_application_default()\n",
        "drive = GoogleDrive(gauth)\n",
        "\n",
        "\n",
        "# load training weights\n",
        "\n",
        "newpath = '/content/darkflow/bin'\n",
        "if not os.path.exists(newpath):\n",
        "  os.makedirs(newpath)\n",
        "\n",
        "download = drive.CreateFile({'id': '1J-GZ6mvhu12j19zZtq9fTbnyJeCgxE0g'}) # insert the fild ID here\n",
        "download.GetContentFile('/content/darkflow/bin/yolov2.weights')\n",
        "\n"
      ],
      "execution_count": 0,
      "outputs": []
    },
    {
      "metadata": {
        "id": "9O5BfDZzspgP",
        "colab_type": "code",
        "colab": {}
      },
      "cell_type": "code",
      "source": [
        "from darkflow.net.build import TFNet\n",
        "import cv2\n",
        "import matplotlib.pyplot as plt\n"
      ],
      "execution_count": 0,
      "outputs": []
    },
    {
      "metadata": {
        "id": "XNiPoGeM1Vi7",
        "colab_type": "code",
        "colab": {}
      },
      "cell_type": "code",
      "source": [
        "options = {\n",
        "    'model': 'cfg/yolo.cfg',\n",
        "    'load': 'bin/yolov2.weights',\n",
        "    'threshold': 0.3,\n",
        "    'gpu' : 1.0\n",
        "          }"
      ],
      "execution_count": 0,
      "outputs": []
    },
    {
      "metadata": {
        "id": "2lCTKqVo1Z3c",
        "colab_type": "code",
        "colab": {
          "base_uri": "https://localhost:8080/",
          "height": 816
        },
        "outputId": "03e2d39e-4567-455a-a403-79b547e86b41"
      },
      "cell_type": "code",
      "source": [
        "tfnet = TFNet(options)"
      ],
      "execution_count": 18,
      "outputs": [
        {
          "output_type": "stream",
          "text": [
            "/content/darkflow/darkflow/dark/darknet.py:54: UserWarning: ./cfg/yolov2.cfg not found, use cfg/yolo.cfg instead\n",
            "  cfg_path, FLAGS.model))\n"
          ],
          "name": "stderr"
        },
        {
          "output_type": "stream",
          "text": [
            "Parsing cfg/yolo.cfg\n",
            "Loading bin/yolov2.weights ...\n",
            "Successfully identified 203934260 bytes\n",
            "Finished in 0.027690887451171875s\n",
            "Model has a coco model name, loading coco labels.\n",
            "\n",
            "Building net ...\n",
            "Source | Train? | Layer description                | Output size\n",
            "-------+--------+----------------------------------+---------------\n",
            "       |        | input                            | (?, 608, 608, 3)\n",
            " Load  |  Yep!  | conv 3x3p1_1  +bnorm  leaky      | (?, 608, 608, 32)\n",
            " Load  |  Yep!  | maxp 2x2p0_2                     | (?, 304, 304, 32)\n",
            " Load  |  Yep!  | conv 3x3p1_1  +bnorm  leaky      | (?, 304, 304, 64)\n",
            " Load  |  Yep!  | maxp 2x2p0_2                     | (?, 152, 152, 64)\n",
            " Load  |  Yep!  | conv 3x3p1_1  +bnorm  leaky      | (?, 152, 152, 128)\n",
            " Load  |  Yep!  | conv 1x1p0_1  +bnorm  leaky      | (?, 152, 152, 64)\n",
            " Load  |  Yep!  | conv 3x3p1_1  +bnorm  leaky      | (?, 152, 152, 128)\n",
            " Load  |  Yep!  | maxp 2x2p0_2                     | (?, 76, 76, 128)\n",
            " Load  |  Yep!  | conv 3x3p1_1  +bnorm  leaky      | (?, 76, 76, 256)\n",
            " Load  |  Yep!  | conv 1x1p0_1  +bnorm  leaky      | (?, 76, 76, 128)\n",
            " Load  |  Yep!  | conv 3x3p1_1  +bnorm  leaky      | (?, 76, 76, 256)\n",
            " Load  |  Yep!  | maxp 2x2p0_2                     | (?, 38, 38, 256)\n",
            " Load  |  Yep!  | conv 3x3p1_1  +bnorm  leaky      | (?, 38, 38, 512)\n",
            " Load  |  Yep!  | conv 1x1p0_1  +bnorm  leaky      | (?, 38, 38, 256)\n",
            " Load  |  Yep!  | conv 3x3p1_1  +bnorm  leaky      | (?, 38, 38, 512)\n",
            " Load  |  Yep!  | conv 1x1p0_1  +bnorm  leaky      | (?, 38, 38, 256)\n",
            " Load  |  Yep!  | conv 3x3p1_1  +bnorm  leaky      | (?, 38, 38, 512)\n",
            " Load  |  Yep!  | maxp 2x2p0_2                     | (?, 19, 19, 512)\n",
            " Load  |  Yep!  | conv 3x3p1_1  +bnorm  leaky      | (?, 19, 19, 1024)\n",
            " Load  |  Yep!  | conv 1x1p0_1  +bnorm  leaky      | (?, 19, 19, 512)\n",
            " Load  |  Yep!  | conv 3x3p1_1  +bnorm  leaky      | (?, 19, 19, 1024)\n",
            " Load  |  Yep!  | conv 1x1p0_1  +bnorm  leaky      | (?, 19, 19, 512)\n",
            " Load  |  Yep!  | conv 3x3p1_1  +bnorm  leaky      | (?, 19, 19, 1024)\n",
            " Load  |  Yep!  | conv 3x3p1_1  +bnorm  leaky      | (?, 19, 19, 1024)\n",
            " Load  |  Yep!  | conv 3x3p1_1  +bnorm  leaky      | (?, 19, 19, 1024)\n",
            " Load  |  Yep!  | concat [16]                      | (?, 38, 38, 512)\n",
            " Load  |  Yep!  | conv 1x1p0_1  +bnorm  leaky      | (?, 38, 38, 64)\n",
            " Load  |  Yep!  | local flatten 2x2                | (?, 19, 19, 256)\n",
            " Load  |  Yep!  | concat [27, 24]                  | (?, 19, 19, 1280)\n",
            " Load  |  Yep!  | conv 3x3p1_1  +bnorm  leaky      | (?, 19, 19, 1024)\n",
            " Load  |  Yep!  | conv 1x1p0_1    linear           | (?, 19, 19, 425)\n",
            "-------+--------+----------------------------------+---------------\n",
            "GPU mode with 1.0 usage\n",
            "Finished in 4.978983640670776s\n",
            "\n"
          ],
          "name": "stdout"
        }
      ]
    },
    {
      "metadata": {
        "id": "nIH4y_P019B-",
        "colab_type": "code",
        "colab": {}
      },
      "cell_type": "code",
      "source": [
        "def predict_img(link):\n",
        "  \n",
        "  result = tfnet.return_predict(link)\n",
        "   \n",
        "\n",
        "  for n,value in enumerate(result):\n",
        "    \n",
        "    tl = (result[n]['topleft']['x'], result[n]['topleft']['y'])\n",
        "    br = (result[n]['bottomright']['x'], result[n]['bottomright']['y'])\n",
        "    label = result[n]['label']\n",
        "    img = cv2.rectangle(img,tl,br,(0,255,0))\n",
        "    \n",
        "  plt.figure(figsize=(20,10))    \n",
        "  plt.imshow(img)"
      ],
      "execution_count": 0,
      "outputs": []
    },
    {
      "metadata": {
        "id": "69tqu-St1gIC",
        "colab_type": "code",
        "colab": {}
      },
      "cell_type": "code",
      "source": [
        "def create_image_paths():\n",
        "  \n",
        "  import glob\n",
        "  # Get all image file paths to a list.\n",
        "  images = list(glob.iglob(os.path.join('/content/sample_data_frames/',title, '*.*')))\n",
        "  # Sort the images by name index.\n",
        "  images = sorted(images, key=lambda x: float(os.path.split(x)[1][:-3]))\n",
        "  \n",
        "  return images"
      ],
      "execution_count": 0,
      "outputs": []
    },
    {
      "metadata": {
        "id": "qxMLW9yRH5K_",
        "colab_type": "code",
        "colab": {}
      },
      "cell_type": "code",
      "source": [
        "def download_youtube_video(link):\n",
        "  \n",
        "  \n",
        "  from pytube import YouTube\n",
        "  yt = YouTube(link)\n",
        "  streams = yt.streams.get_by_itag('18')\n",
        "  streams.download('/content/sample_data')\n",
        "  title = streams.default_filename\n",
        "  \n",
        "  print('Youtube Video Downloaded...')\n",
        "  return  title\n",
        "\n"
      ],
      "execution_count": 0,
      "outputs": []
    },
    {
      "metadata": {
        "id": "0NtnUAqy1tQo",
        "colab_type": "code",
        "colab": {}
      },
      "cell_type": "code",
      "source": [
        "def fps():\n",
        "  \n",
        "  \n",
        "  video = cv2.VideoCapture(os.path.join('/content/sample_data/',title))  \n",
        "  fps = video.get(cv2.CAP_PROP_FPS)\n",
        "  print(\"Frames per second using video.get(cv2.CAP_PROP_FPS) : {0}\".format(fps))\n",
        "  video.release()\n",
        "  return fps\n",
        "  \n",
        "\n",
        "  "
      ],
      "execution_count": 0,
      "outputs": []
    },
    {
      "metadata": {
        "id": "tbgiSIKO2Dsl",
        "colab_type": "code",
        "colab": {}
      },
      "cell_type": "code",
      "source": [
        "def make_video(outvid, images=None, fps=30, size=None,\n",
        "               is_color=True, format=\"FMP4\"):\n",
        "    \"\"\"\n",
        "    Create a video from a list of images.\n",
        " \n",
        "    @param      outvid      output video\n",
        "    @param      images      list of images to use in the video\n",
        "    @param      fps         frame per second\n",
        "    @param      size        size of each frame\n",
        "    @param      is_color    color\n",
        "    @param      format      see http://www.fourcc.org/codecs.php\n",
        "    @return                 see http://opencv-python-tutroals.readthedocs.org/en/latest/py_tutorials/py_gui/py_video_display/py_video_display.html\n",
        "    \"\"\"\n",
        "    from tqdm import tqdm\n",
        "    from cv2 import VideoWriter, VideoWriter_fourcc, imread, resize\n",
        "    fourcc = VideoWriter_fourcc(*format)\n",
        "    vid = None\n",
        "    for image in tqdm(images):\n",
        "        if not os.path.exists(image):\n",
        "            raise FileNotFoundError(image)\n",
        "        img = imread(image)\n",
        "        if vid is None:\n",
        "            if size is None:\n",
        "                size = img.shape[1], img.shape[0]\n",
        "            vid = VideoWriter(outvid, fourcc, float(fps), size, is_color)\n",
        "        if size[0] != img.shape[1] and size[1] != img.shape[0]:\n",
        "            img = resize(img, size)\n",
        "        vid.write(img)\n",
        "    vid.release()\n",
        "    return vid\n",
        "\n",
        "\n",
        "  \n",
        "\n",
        "#outvid = os.path.join(VIDEO_DIR, \"out.mp4\")\n",
        "#make_video('/content/sample_data/video_out.mp4', images, fps=30)\n"
      ],
      "execution_count": 0,
      "outputs": []
    },
    {
      "metadata": {
        "id": "QinTqTGdx6Iu",
        "colab_type": "code",
        "colab": {}
      },
      "cell_type": "code",
      "source": [
        "def sample_frames():\n",
        "  \n",
        "  capture = cv2.VideoCapture(os.path.join('/content/sample_data/',title)) \n",
        "\n",
        "  \n",
        "  frames = []\n",
        "  frame_count = 0\n",
        "\n",
        "  video_frame_path = os.path.join('/content/sample_data_frames/',title)\n",
        "  \n",
        "  if not os.path.exists(video_frame_path):\n",
        "    os.makedirs(video_frame_path)\n",
        "    print('Frames Directory Created...')\n",
        "  \n",
        "  while True:\n",
        "  \n",
        "    ret, frame = capture.read()\n",
        "    frames.append(frame)\n",
        "    frame_count += 1\n",
        "    \n",
        "  \n",
        "  \n",
        "    if not ret:\n",
        "      print(frame_count)\n",
        "      return (frames,frame_count,video_frame_path)\n",
        "      break"
      ],
      "execution_count": 0,
      "outputs": []
    },
    {
      "metadata": {
        "id": "LehUKxUjGO6H",
        "colab_type": "code",
        "colab": {}
      },
      "cell_type": "code",
      "source": [
        "def predict_video(link):\n",
        "  \n",
        "  global title\n",
        "  \n",
        "  title = download_youtube_video(link)\n",
        "   \n",
        "  frames,frame_count,video_frame_path = sample_frames()\n",
        "  \n",
        "  #load video and get every frame of it for analysis..\n",
        "  \n",
        "\n",
        "  \n",
        "  # for every frame run yolo prediction and save the frame as jpg file\n",
        "\n",
        "  for count,frame in tqdm(enumerate(frames[1:-10])):\n",
        "    \n",
        "\n",
        "    #frame = cv2.cvtColor(frame,cv2.COLOR_BGR2RGB)\n",
        "    \n",
        "    results = tfnet.return_predict(frame)\n",
        "  \n",
        "    for n,value in enumerate(results):\n",
        "      \n",
        "      tl = (results[n]['topleft']['x'], results[n]['topleft']['y'])\n",
        "      br = (results[n]['bottomright']['x'], results[n]['bottomright']['y'])\n",
        "      label = results[n]['label']\n",
        "      frame = cv2.rectangle(frame,tl,br,(0,255,0),3)\n",
        "      frame = cv2.putText(frame,label,tl,cv2.FONT_HERSHEY_COMPLEX,1,(0,0,0),2)\n",
        "      \n",
        "      #frame = cv2.addText(label)\n",
        "      #frame = cv2.line(img,(0,frame.shape[0]//2),(600,img.shape[0]//2),(255,0,0),2)   \n",
        "      \n",
        "  \n",
        "    name = '{0}.jpg'.format(count)\n",
        "    \n",
        "    name = os.path.join(video_frame_path,name)  \n",
        "    cv2.imwrite(name, frame)\n",
        "    \n",
        "  print('All Frames Saved...')\n",
        "  \n",
        "  newpath = '/content/sample_data_out/'\n",
        "  if not os.path.exists(newpath):\n",
        "    os.makedirs(newpath)\n",
        "    \n",
        "  images = create_image_paths()\n",
        "  #print(images)\n",
        "  frames_per_second = fps()\n",
        "  make_video(os.path.join('/content/sample_data_out/',title), images, fps=frames_per_second)\n",
        "  \n",
        "  \n",
        "    \n",
        "  \n",
        "  \n",
        "  "
      ],
      "execution_count": 0,
      "outputs": []
    },
    {
      "metadata": {
        "id": "3VHzyx0QNEtR",
        "colab_type": "text"
      },
      "cell_type": "markdown",
      "source": [
        "## Insert any YouTube video link and create YOLO object detection for it.\n",
        "\n",
        "## Please note that I have be default choosen to use 360p resolution videos as I have noticed Google colab runtime crashing on higher resolution videos."
      ]
    },
    {
      "metadata": {
        "id": "No7_r24CtWXz",
        "colab_type": "code",
        "colab": {
          "base_uri": "https://localhost:8080/",
          "height": 119
        },
        "outputId": "5912e0c1-7f16-4440-8614-8ff38529289e"
      },
      "cell_type": "code",
      "source": [
        "predict_video('https://www.youtube.com/watch?v=wlJzRAUexV0')\n"
      ],
      "execution_count": 26,
      "outputs": [
        {
          "output_type": "stream",
          "text": [
            "Youtube Video Downloaded...\n"
          ],
          "name": "stdout"
        },
        {
          "output_type": "stream",
          "text": [
            "\r0it [00:00, ?it/s]"
          ],
          "name": "stderr"
        },
        {
          "output_type": "stream",
          "text": [
            "1939\n"
          ],
          "name": "stdout"
        },
        {
          "output_type": "stream",
          "text": [
            "1928it [02:31, 12.97it/s]\n",
            "  1%|          | 17/1928 [00:00<00:11, 162.13it/s]"
          ],
          "name": "stderr"
        },
        {
          "output_type": "stream",
          "text": [
            "All Frames Saved...\n",
            "Frames per second using video.get(cv2.CAP_PROP_FPS) : 29.87667009249743\n"
          ],
          "name": "stdout"
        },
        {
          "output_type": "stream",
          "text": [
            "100%|██████████| 1928/1928 [00:10<00:00, 189.70it/s]\n"
          ],
          "name": "stderr"
        }
      ]
    },
    {
      "metadata": {
        "id": "hh9cpQ8BM6gZ",
        "colab_type": "text"
      },
      "cell_type": "markdown",
      "source": [
        "## Run this cell to download the video we have just made!"
      ]
    },
    {
      "metadata": {
        "id": "PA8gfXnCJ96C",
        "colab_type": "code",
        "colab": {}
      },
      "cell_type": "code",
      "source": [
        "files.download(os.path.join('/content/sample_data_out/',title))\n"
      ],
      "execution_count": 0,
      "outputs": []
    },
    {
      "metadata": {
        "id": "E0rDSkQmMD3-",
        "colab_type": "code",
        "colab": {
          "base_uri": "https://localhost:8080/",
          "height": 51
        },
        "outputId": "5bdec58e-57b5-49ba-d68e-058681aa70e9"
      },
      "cell_type": "code",
      "source": [
        "!git remote add origin https://github.com/jjiteshh/YOLO_YOUTUBE_COLAB.git\n",
        "!git push -u origin master"
      ],
      "execution_count": 2,
      "outputs": [
        {
          "output_type": "stream",
          "text": [
            "fatal: not a git repository (or any of the parent directories): .git\n",
            "fatal: not a git repository (or any of the parent directories): .git\n"
          ],
          "name": "stdout"
        }
      ]
    },
    {
      "metadata": {
        "id": "zNk-Iv2d3cQ0",
        "colab_type": "code",
        "colab": {}
      },
      "cell_type": "code",
      "source": [
        ""
      ],
      "execution_count": 0,
      "outputs": []
    }
  ]
}